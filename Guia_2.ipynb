{
  "cells": [
    {
      "cell_type": "markdown",
      "metadata": {},
      "source": [
        "## **Grupo 13: Madeleine Gil / Cristian Camilo Amezquita Bravo**"
      ]
    },
    {
      "cell_type": "markdown",
      "metadata": {
        "id": "sVxeQki8vRXz"
      },
      "source": [
        "# **Guía 2**\n",
        "\n",
        "Objetivo: aplicar los conceptos de Pandas en la manipulación y análisis de datos estructurados. Se trabajará con Series y DataFrames, aplicando técnicas de acceso, selección, filtrado y agregación de datos.\n",
        "\n",
        "### **Caso de Negocio: Análisis de Deserción de Clientes en una Empresa de Telecomunicaciones**\n",
        "\n",
        "**Contexto**\n",
        "\n",
        "En la industria de las telecomunicaciones, la retención de clientes es un factor crítico para la sostenibilidad del negocio. La competencia es feroz y adquirir nuevos clientes suele ser más costoso que mantener a los actuales. En este análisis, exploraremos un conjunto de datos que contiene información detallada sobre clientes que han abandonado el servicio (churn) y aquellos que permanecen activos.\n",
        "\n",
        "Nuestro objetivo es identificar los factores clave que influyen en la deserción, comprender patrones de comportamiento y generar estrategias efectivas para reducir la tasa de abandono.\n",
        "\n",
        "La empresa ha experimentado un aumento en la tasa de deserción de clientes, lo que ha provocado:\n",
        "- Pérdida de ingresos recurrentes.\n",
        "- Incremento en los costos de adquisición de nuevos clientes.\n",
        "- Menor estabilidad en la base de clientes a largo plazo.\n",
        "\n",
        "Para abordar esta problemática, es crucial identificar las razones detrás de la deserción y desarrollar estrategias para mejorar la retención de clientes.\n",
        "\n"
      ]
    },
    {
      "cell_type": "markdown",
      "metadata": {
        "id": "TBsud25XSR0w"
      },
      "source": [
        "**Entrega del Trabajo**\n",
        "\n",
        "Los estudiantes deben trabajar en grupos de entre 2 y 4 personas. Cada grupo deberá subir su trabajo a un repositorio de GitHub, asegurándose de que el código y los archivos necesarios estén bien organizados y documentados. Posteriormente, deberán enviar el enlace del repositorio en la plataforma Canvas para su evaluación.\n",
        "\n",
        "Instrucciones para la entrega:\n",
        "\n",
        "Crear un repositorio en GitHub con un nombre descriptivo para el proyecto.\n",
        "\n",
        "Subir el código en Jupyter Notebook (.ipynb) o en formato Python (.py).\n",
        "\n",
        "Incluir un archivo README.md con una breve descripción del trabajo y las instrucciones de ejecución.\n",
        "\n",
        "Compartir el enlace del repositorio en Canvas dentro del plazo establecido.\n",
        "\n"
      ]
    },
    {
      "cell_type": "markdown",
      "metadata": {
        "id": "R1eyqBGSScta"
      },
      "source": [
        "**Descripción de las variables del dataset telecom_churn**\n",
        "\n",
        "El dataset telecom_churn contiene información detallada sobre clientes de una empresa de telecomunicaciones, incluyendo datos generales, planes contratados, uso del servicio telefónico y llamadas al servicio al cliente. Su propósito principal es analizar patrones de deserción de clientes, identificados a través de la variable churn, que indica si un cliente ha abandonado la empresa (1) o sigue siendo cliente (0).\n",
        "\n",
        "Dentro del dataset, encontramos información general como el estado (state) donde reside el cliente, el código de área (area code), y el número de teléfono (phone number), aunque esta última variable no aporta información útil para el análisis, ya que es un identificador único.\n",
        "\n",
        "Además, el dataset registra el tiempo que un cliente ha estado en la empresa a través de la variable account length, lo que puede ayudar a analizar si la duración del contrato influye en la deserción. También se incluyen detalles sobre los planes contratados, como si el cliente tiene un plan internacional (international plan), que le permite realizar llamadas internacionales, o un buzón de voz (voice mail plan), que le permite recibir mensajes de voz.\n",
        "\n",
        "En cuanto al uso del servicio, se registran datos detallados sobre el tiempo en llamadas y los costos asociados. Se divide en tres períodos del día: diurno (total day minutes, total day calls, total day charge), vespertino (total eve minutes, total eve calls, total eve charge) y nocturno (total night minutes, total night calls, total night charge), lo que permite evaluar si hay patrones de consumo que influyen en la deserción. También se incluye información sobre el uso del servicio internacional, con variables como total intl minutes (minutos en llamadas internacionales), total intl calls (cantidad de llamadas internacionales) y total intl charge (costos por llamadas internacionales).\n",
        "\n",
        "Otro aspecto clave del dataset es el número de llamadas al servicio al cliente (customer service calls), ya que una mayor cantidad de llamadas puede indicar insatisfacción y estar relacionada con la decisión del cliente de abandonar la empresa.\n",
        "\n",
        "Finalmente, la variable más importante del análisis es churn, que indica si un cliente ha desertado de la empresa. A partir de esta variable, podemos analizar qué factores influyen en la deserción y encontrar patrones en los clientes que tienen mayor probabilidad de abandonar el servicio.\n"
      ]
    },
    {
      "cell_type": "markdown",
      "metadata": {
        "id": "-gqRGJ8yFs5Y"
      },
      "source": [
        "**Exploración y Limpieza de Datos**\n",
        "\n",
        "Cargar y explorar el dataset\n",
        "\n",
        "Importa Pandas y carga el dataset telecom_churn.csv en un DataFrame.\n",
        "\n",
        "Muestra las primeras 5 filas del DataFrame.\n",
        "\n",
        "Verifica cuántas filas y columnas tiene el dataset.\n",
        "\n",
        "Muestra información general del dataset, incluyendo los tipos de datos.\n",
        "\n",
        "Identifica si hay valores nulos en alguna columna."
      ]
    },
    {
      "cell_type": "code",
      "execution_count": 2,
      "metadata": {
        "id": "wuoyvrE0vQ09"
      },
      "outputs": [
        {
          "name": "stdout",
          "output_type": "stream",
          "text": [
            "  state  account length  area code phone number international plan  \\\n",
            "0    KS             128        415     382-4657                 no   \n",
            "1    OH             107        415     371-7191                 no   \n",
            "2    NJ             137        415     358-1921                 no   \n",
            "3    OH              84        408     375-9999                yes   \n",
            "4    OK              75        415     330-6626                yes   \n",
            "\n",
            "  voice mail plan  number vmail messages  total day minutes  total day calls  \\\n",
            "0             yes                     25              265.1              110   \n",
            "1             yes                     26              161.6              123   \n",
            "2              no                      0              243.4              114   \n",
            "3              no                      0              299.4               71   \n",
            "4              no                      0              166.7              113   \n",
            "\n",
            "   total day charge  ...  total eve calls  total eve charge  \\\n",
            "0             45.07  ...               99             16.78   \n",
            "1             27.47  ...              103             16.62   \n",
            "2             41.38  ...              110             10.30   \n",
            "3             50.90  ...               88              5.26   \n",
            "4             28.34  ...              122             12.61   \n",
            "\n",
            "   total night minutes  total night calls  total night charge  \\\n",
            "0                244.7                 91               11.01   \n",
            "1                254.4                103               11.45   \n",
            "2                162.6                104                7.32   \n",
            "3                196.9                 89                8.86   \n",
            "4                186.9                121                8.41   \n",
            "\n",
            "   total intl minutes  total intl calls  total intl charge  \\\n",
            "0                10.0                 3               2.70   \n",
            "1                13.7                 3               3.70   \n",
            "2                12.2                 5               3.29   \n",
            "3                 6.6                 7               1.78   \n",
            "4                10.1                 3               2.73   \n",
            "\n",
            "   customer service calls  churn  \n",
            "0                       1  False  \n",
            "1                       1  False  \n",
            "2                       0  False  \n",
            "3                       2  False  \n",
            "4                       3  False  \n",
            "\n",
            "[5 rows x 21 columns]\n"
          ]
        }
      ],
      "source": [
        "# Solución propuesta\n",
        "\n",
        "# Importar libreria Pandas\n",
        "import pandas as pd\n",
        "\n",
        "# Cargar base de datos de 'churn'\n",
        "data_churn = pd.read_csv('telecom_churn.csv')\n",
        "\n",
        "# Ver las primeras 5 observaciones de la data\n",
        "print(data_churn.head())"
      ]
    },
    {
      "cell_type": "code",
      "execution_count": 3,
      "metadata": {},
      "outputs": [
        {
          "name": "stdout",
          "output_type": "stream",
          "text": [
            "Dimension de la base de datos: (3333, 21)\n"
          ]
        }
      ],
      "source": [
        "# Ver la dimension de la base de datos\n",
        "print('Dimension de la base de datos:', data_churn.shape) #** Se observa que el daset tiene 3.333 filas y 21 columnas"
      ]
    },
    {
      "cell_type": "code",
      "execution_count": 4,
      "metadata": {},
      "outputs": [
        {
          "name": "stdout",
          "output_type": "stream",
          "text": [
            "<class 'pandas.core.frame.DataFrame'>\n",
            "RangeIndex: 3333 entries, 0 to 3332\n",
            "Data columns (total 21 columns):\n",
            " #   Column                  Non-Null Count  Dtype  \n",
            "---  ------                  --------------  -----  \n",
            " 0   state                   3333 non-null   object \n",
            " 1   account length          3333 non-null   int64  \n",
            " 2   area code               3333 non-null   int64  \n",
            " 3   phone number            3333 non-null   object \n",
            " 4   international plan      3333 non-null   object \n",
            " 5   voice mail plan         3333 non-null   object \n",
            " 6   number vmail messages   3333 non-null   int64  \n",
            " 7   total day minutes       3333 non-null   float64\n",
            " 8   total day calls         3333 non-null   int64  \n",
            " 9   total day charge        3333 non-null   float64\n",
            " 10  total eve minutes       3333 non-null   float64\n",
            " 11  total eve calls         3333 non-null   int64  \n",
            " 12  total eve charge        3333 non-null   float64\n",
            " 13  total night minutes     3333 non-null   float64\n",
            " 14  total night calls       3333 non-null   int64  \n",
            " 15  total night charge      3333 non-null   float64\n",
            " 16  total intl minutes      3333 non-null   float64\n",
            " 17  total intl calls        3333 non-null   int64  \n",
            " 18  total intl charge       3333 non-null   float64\n",
            " 19  customer service calls  3333 non-null   int64  \n",
            " 20  churn                   3333 non-null   bool   \n",
            "dtypes: bool(1), float64(8), int64(8), object(4)\n",
            "memory usage: 524.2+ KB\n"
          ]
        }
      ],
      "source": [
        "# Mostrar informacion del tipo de variables y su cantidad de valores nulos\n",
        "data_churn.info()"
      ]
    },
    {
      "cell_type": "markdown",
      "metadata": {},
      "source": [
        "Se observa que no hay valores nulos en ninguna de las variables. \n",
        "Existen variables de tipo numerico y la variable objetivo es tipo boleano. Asimismo hay variables categoricas de tipo objeto."
      ]
    },
    {
      "cell_type": "markdown",
      "metadata": {
        "id": "PIGXq-ijFgb4"
      },
      "source": [
        "**Análisis de Churn y Factores Relacionados**\n",
        "\n",
        "Calcula el porcentaje de clientes que han desertado (churn = 1).\n",
        "\n",
        "Identifica si los clientes con plan internacional (international plan) tienen mayor tasa de deserción.\n",
        "\n",
        "Identifica si los clientes con buzón de voz (voice mail plan) tienen menor tasa de deserción."
      ]
    },
    {
      "cell_type": "code",
      "execution_count": 5,
      "metadata": {
        "id": "3_TFqdwBwUD-"
      },
      "outputs": [
        {
          "name": "stdout",
          "output_type": "stream",
          "text": [
            "Porcentaje de clientes activos y desertados:\n",
            "churn\n",
            "False    85.508551\n",
            "True     14.491449\n",
            "Name: proportion, dtype: float64\n",
            "\n",
            "Porcentaje de clientes activos y desertados de acuerdo con si tienen plan internacional o no:\n",
            "international plan  churn\n",
            "no                  False    88.504983\n",
            "                    True     11.495017\n",
            "yes                 False    57.585139\n",
            "                    True     42.414861\n",
            "Name: proportion, dtype: float64\n",
            "\n",
            "Porcentaje de clientes activos y desertados de acuerdo con si tienen plan internacional o no:\n",
            "voice mail plan  churn\n",
            "no               False    83.284944\n",
            "                 True     16.715056\n",
            "yes              False    91.323210\n",
            "                 True      8.676790\n",
            "Name: proportion, dtype: float64\n"
          ]
        }
      ],
      "source": [
        "# Solución propuesta\n",
        "\n",
        "# Calcular la distribucion de clientes y ex clientes en la data\n",
        "print('Porcentaje de clientes activos y desertados:')\n",
        "print(data_churn['churn'].value_counts(normalize = True) * 100)\n",
        "print('')\n",
        "\n",
        "\n",
        "# Calcular la distribucion de clientes y ex clientes por planes con servicio internacional\n",
        "print('Porcentaje de clientes activos y desertados de acuerdo con si tienen plan internacional o no:')\n",
        "print(data_churn.groupby('international plan')['churn'].value_counts(normalize = True) * 100)\n",
        "print('')\n",
        "\n",
        "\n",
        "# Calcular la distribucion de clientes y ex clientes por planes con servicio de correo de voz\n",
        "print('Porcentaje de clientes activos y desertados de acuerdo con si tienen plan internacional o no:')\n",
        "print(data_churn.groupby('voice mail plan')['churn'].value_counts(normalize = True) * 100)\n"
      ]
    },
    {
      "cell_type": "markdown",
      "metadata": {},
      "source": [
        "En primer lugar, se observa que el 14,49% de los usuarios de la empresa desertaron.\n",
        "\n",
        "Luego, se evidencia que la tasa de deserción de clientes es mayor en planes que contaban con servicio internacional donde la tasa de deserción ternacional es del 42% vs 11% en los planes que no lo contaban.\n",
        "\n",
        "Por otro lado, se encuentra que la tasa de desersion de clientes es mayor en planes que NO contaban con servicio de correo de voz. La tasa desersion en planes con servicio de correo de voz es del 8% vs 16% en los planes que no lo contaban."
      ]
    },
    {
      "cell_type": "markdown",
      "metadata": {
        "id": "yL8Y_juFFup7"
      },
      "source": [
        "**Análisis de la Duración del Servicio y Deserción**\n",
        "\n",
        "¿Cuál es la duración promedio de la cuenta (account length) entre clientes que desertaron y los que permanecen?\n",
        "\n",
        "¿Los clientes con cuentas más antiguas tienen más probabilidades de desertar?"
      ]
    },
    {
      "cell_type": "code",
      "execution_count": 6,
      "metadata": {
        "id": "7ViU0n6lGFao"
      },
      "outputs": [
        {
          "name": "stdout",
          "output_type": "stream",
          "text": [
            "Duracion promedio de la cuenta clientes activos y desertados:\n",
            "churn\n",
            "False    100.793684\n",
            "True     102.664596\n",
            "Name: account length, dtype: float64\n"
          ]
        }
      ],
      "source": [
        "# Solución propuesta\n",
        "\n",
        "# Calcular la duracion promedio de la cuenta de clientes y ex clientes\n",
        "print('Duracion promedio de la cuenta clientes activos y desertados:')\n",
        "print(data_churn.groupby('churn')['account length'].mean())"
      ]
    },
    {
      "cell_type": "markdown",
      "metadata": {},
      "source": [
        "Se observa que la desersion de clientes es mayor en cuentas con mayor tiempo, sin embargo los promedios son similares y puede que la diferencia no resulte significativa.\n"
      ]
    },
    {
      "cell_type": "markdown",
      "metadata": {
        "id": "vyaa82K0GF6B"
      },
      "source": [
        "**Relación entre Deserción y Uso del Servicio**\n",
        "\n",
        "Compara la cantidad de minutos usados en llamadas diurnas (total day minutes) entre clientes con y sin churn.\n",
        "\n",
        "Compara la cantidad de minutos usados en llamadas nocturnas (total night minutes).\n",
        "\n",
        "Compara el número total de llamadas (total day calls) entre clientes con y sin churn."
      ]
    },
    {
      "cell_type": "code",
      "execution_count": 7,
      "metadata": {
        "id": "d4aPKcv2GrpL"
      },
      "outputs": [
        {
          "name": "stdout",
          "output_type": "stream",
          "text": [
            "Cantidad promedio de minutos usados en llamadas diurnas, nocturnas y totales por clientes y desertados:\n",
            "       minutos_diurnos  minutos_nocturnos  minutos_total\n",
            "churn                                                   \n",
            "False       175.175754         200.133193     100.283158\n",
            "True        206.914079         205.231677     101.335404\n"
          ]
        }
      ],
      "source": [
        "# Solución propuesta\n",
        "\n",
        "# Dado que la data es altamente desbalanceada, es decir, hay mas clientes que ex clientes, es mas concordante ver la cantidad media de minutos y no la cantidad total\n",
        "# Calcular la el promedio de minutos usados en llamadas diurnas, nocturnas y totales en clientes y ex clientes\n",
        "print('Cantidad promedio de minutos usados en llamadas diurnas, nocturnas y totales por clientes y desertados:')\n",
        "print(data_churn.groupby('churn').agg(\n",
        "    minutos_diurnos = ('total day minutes', 'mean'),\n",
        "    minutos_nocturnos = ('total night minutes', 'mean'),\n",
        "    minutos_total = ('total day calls', 'mean')))"
      ]
    },
    {
      "cell_type": "markdown",
      "metadata": {},
      "source": [
        "Se observa que, en general, es decir, en cantidad promedio de minutos diurnos, nocturnos y totales, la cantidad de minutos promedio usados por los clientes dados de baja es mayor a la cantidad media de clientes activos.\n"
      ]
    },
    {
      "cell_type": "markdown",
      "metadata": {
        "id": "aKl9LnZgGsDT"
      },
      "source": [
        "**Impacto de las Llamadas al Servicio al Cliente en la Deserción**\n",
        "\n",
        "Calcula el número promedio de llamadas al servicio al cliente (customer service calls) entre clientes que desertaron y los que no.\n",
        "\n",
        "Divide los clientes en dos grupos:\n",
        "\n",
        "- Grupo 1: Clientes que llamaron más de 3 veces al servicio al cliente.\n",
        "- Grupo 2: Clientes que llamaron 3 veces o menos.\n",
        "Compara la tasa de churn entre ambos grupos."
      ]
    },
    {
      "cell_type": "code",
      "execution_count": 10,
      "metadata": {
        "id": "ac9qDXgrGz-M"
      },
      "outputs": [
        {
          "name": "stdout",
          "output_type": "stream",
          "text": [
            "Distribucion de clientes activos y dados de baja respecto a si se contacta mas de 3 veces o menos:\n",
            "customer_serv_3_more  churn\n",
            "Grupo 1               True     51.685393\n",
            "                      False    48.314607\n",
            "Grupo 2               False    88.747554\n",
            "                      True     11.252446\n",
            "Name: proportion, dtype: float64\n"
          ]
        },
        {
          "name": "stderr",
          "output_type": "stream",
          "text": [
            "C:\\Users\\cristian.amezquita\\AppData\\Local\\Temp\\ipykernel_23592\\1964137107.py:7: SettingWithCopyWarning: \n",
            "A value is trying to be set on a copy of a slice from a DataFrame.\n",
            "Try using .loc[row_indexer,col_indexer] = value instead\n",
            "\n",
            "See the caveats in the documentation: https://pandas.pydata.org/pandas-docs/stable/user_guide/indexing.html#returning-a-view-versus-a-copy\n",
            "  data_service['customer_serv_3_more'] = data_service['customer service calls'].apply(lambda x: 'Grupo 1' if x > 3 else 'Grupo 2')\n"
          ]
        }
      ],
      "source": [
        "# Solución propuesta\n",
        "\n",
        "# Crear un dataframe nuevo, en este caso solo seleccionare las variables de interes: 'customer service calls' y 'churn'\n",
        "data_service = data_churn[['customer service calls', 'churn']]\n",
        "\n",
        "# Crear la nueva variable con los grupos de acuerdo al numero de veces que la cuenta se ha comunicado con servicio al cliente\n",
        "data_service['customer_serv_3_more'] = data_service['customer service calls'].apply(lambda x: 'Grupo 1' if x > 3 else 'Grupo 2')\n",
        "    # apply permite aplicar una función perzonalizada a cada valor de la columna. \n",
        "    # lambda es una función que evalua cada valor 'x' en la columna sin necesidad de definirla previamente.\n",
        "\n",
        "# Calcular la tasa de desercion de acuerdo a cada grupo\n",
        "print('Distribucion de clientes activos y dados de baja respecto a si se contacta mas de 3 veces o menos:')\n",
        "print(data_service.groupby('customer_serv_3_more')['churn'].value_counts(normalize = True) * 100)"
      ]
    },
    {
      "cell_type": "markdown",
      "metadata": {},
      "source": [
        "Se observa que, efectivamente, el grupo 1, que corresponde a los clientes que se comunicaron mas de 3 veces con servicio al cliente, tienen una mayor tasa de desercion."
      ]
    },
    {
      "cell_type": "markdown",
      "metadata": {
        "id": "U7oTziiyG0Wb"
      },
      "source": [
        "**Análisis del Costo de las Llamadas y Churn**\n",
        "\n",
        "Compara el costo total de llamadas diurnas (total day charge) entre clientes con y sin churn.\n",
        "\n",
        "Compara el costo total de llamadas nocturnas (total night charge).\n",
        "\n",
        "¿Los clientes con mayor gasto en llamadas internacionales (total intl charge) tienen más probabilidades de desertar?"
      ]
    },
    {
      "cell_type": "code",
      "execution_count": 9,
      "metadata": {
        "id": "YWGmcLdoIYwx"
      },
      "outputs": [
        {
          "name": "stdout",
          "output_type": "stream",
          "text": [
            "Costo promedio de llamadas diurnas, nocturnas e internacionales por clientes y dados de baja:\n",
            "       costo_diurnos  costo_nocturnos  costo_total\n",
            "churn                                             \n",
            "False      29.780421         9.006074     2.743404\n",
            "True       35.175921         9.235528     2.889545\n"
          ]
        }
      ],
      "source": [
        "# Solución propuesta\n",
        "\n",
        "# Teniendo en cuenta el desbalance, es mas coherente ver el costo media de de llamadas\n",
        "# Calcular el costo medio de llamadas diurnas, nocturnas e internacionales en clientes y ex clientes\n",
        "print('Costo promedio de llamadas diurnas, nocturnas e internacionales por clientes y dados de baja:')\n",
        "print(data_churn.groupby('churn').agg(\n",
        "    costo_diurnos = ('total day charge', 'mean'),\n",
        "    costo_nocturnos = ('total night charge', 'mean'),\n",
        "    costo_total = ('total intl charge', 'mean')))"
      ]
    },
    {
      "cell_type": "markdown",
      "metadata": {},
      "source": [
        "Se observa que en cada rubro el costo promedio en llamadas en los clientes dados de baja es mayor en comparacion con los clientes activos, aunque la mayor diferencia se encuentra en el costo diurno. El costo nocturno y total son similares.\n"
      ]
    }
  ],
  "metadata": {
    "colab": {
      "provenance": []
    },
    "kernelspec": {
      "display_name": "base",
      "language": "python",
      "name": "python3"
    },
    "language_info": {
      "codemirror_mode": {
        "name": "ipython",
        "version": 3
      },
      "file_extension": ".py",
      "mimetype": "text/x-python",
      "name": "python",
      "nbconvert_exporter": "python",
      "pygments_lexer": "ipython3",
      "version": "3.11.5"
    }
  },
  "nbformat": 4,
  "nbformat_minor": 0
}
